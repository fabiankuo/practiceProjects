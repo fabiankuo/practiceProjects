{
 "cells": [
  {
   "cell_type": "code",
   "execution_count": null,
   "metadata": {
    "collapsed": true
   },
   "outputs": [],
   "source": [
    "#global variables:\n",
    "board = [\" \"]*10\n",
    "player ='player2'\n",
    "playerDict = {'player1':'X', 'player2':'O'}\n",
    "from IPython.display import clear_output\n",
    "import random"
   ]
  },
  {
   "cell_type": "code",
   "execution_count": null,
   "metadata": {
    "collapsed": true
   },
   "outputs": [],
   "source": []
  },
  {
   "cell_type": "code",
   "execution_count": null,
   "metadata": {
    "collapsed": true
   },
   "outputs": [],
   "source": [
    "def whoStartsFirst():\n",
    "    global player\n",
    "    if random.randint(0,1) == 0:\n",
    "        print(\"player1 starts!\")\n",
    "        player = 'player1'        \n",
    "    else:\n",
    "        print(\"player2 starts!\")\n",
    "        player = 'player2'"
   ]
  },
  {
   "cell_type": "code",
   "execution_count": null,
   "metadata": {
    "collapsed": true
   },
   "outputs": [],
   "source": [
    "def resetBoard():\n",
    "    global board\n",
    "    board = [\" \"]*10"
   ]
  },
  {
   "cell_type": "code",
   "execution_count": null,
   "metadata": {
    "collapsed": true
   },
   "outputs": [],
   "source": [
    "def printBoard(board):\n",
    "    clear_output()\n",
    "    print(\"  \"+board[7]+\"  |  \"+board[8]+\"  |  \"+board[9]+\"  \")\n",
    "    print(\"_____|_____|_____\")\n",
    "    print(\"  \"+board[4]+\"  |  \"+board[5]+\"  |  \"+board[6]+\"  \")\n",
    "    print(\"_____|_____|_____\")\n",
    "    print(\"  \"+board[1]+\"  |  \"+board[2]+\"  |  \"+board[3]+\"  \")\n",
    "    print(\"     |     |     \")"
   ]
  },
  {
   "cell_type": "code",
   "execution_count": null,
   "metadata": {
    "collapsed": true
   },
   "outputs": [],
   "source": [
    "def getPlayerInput():\n",
    "    global board, player, playerDict\n",
    "    position = input(str(player)+\" please choose your position (1-9): \")\n",
    "    while True:\n",
    "        try:            \n",
    "            if position not in \"1 2 3 4 5 6 7 8 9\".split():\n",
    "                print(\"Sorry, please input a number between 1-9.\")\n",
    "            elif  not checkAvailability(position):\n",
    "                print('move taken!')\n",
    "                position = input(str(player)+\" please choose your position (1-9): \")\n",
    "            else:\n",
    "                board[int(position)] = playerDict[player]            \n",
    "                break\n",
    "        except:\n",
    "            print(\"Sorry, please input a number between 1-9.\")"
   ]
  },
  {
   "cell_type": "code",
   "execution_count": null,
   "metadata": {
    "collapsed": true
   },
   "outputs": [],
   "source": [
    "def checkAvailability(position):\n",
    "    global board\n",
    "    if board[int(position)] == \" \":\n",
    "        return True\n",
    "    else:\n",
    "        return False"
   ]
  },
  {
   "cell_type": "code",
   "execution_count": null,
   "metadata": {
    "collapsed": true
   },
   "outputs": [],
   "source": [
    "def switchPlayer():\n",
    "    global player\n",
    "    if player == 'player1':\n",
    "        player = 'player2'\n",
    "    else:\n",
    "        player = 'player1'"
   ]
  },
  {
   "cell_type": "code",
   "execution_count": null,
   "metadata": {
    "collapsed": true
   },
   "outputs": [],
   "source": [
    "def checkWinner():\n",
    "    global board, player\n",
    "    if (board[1] == board[2] == board[3] and board[1] != ' ')\\\n",
    "    or (board[1] == board[5] == board[9] and board[1] != ' ')\\\n",
    "    or (board[1] == board[4] == board[7] and board[1] != ' ')\\\n",
    "    or (board[2] == board[5] == board[8] and board[2] != ' ')\\\n",
    "    or (board[3] == board[5] == board[7] and board[3] != ' ')\\\n",
    "    or (board[3] == board[6] == board[9] and board[3] != ' ')\\\n",
    "    or (board[4] == board[5] == board[6] and board[4] != ' ')\\\n",
    "    or (board[7] == board[8] == board[9] and board[7] != ' '):\n",
    "        print(player+' won!')\n",
    "        return True\n",
    "    else:\n",
    "        return False"
   ]
  },
  {
   "cell_type": "code",
   "execution_count": null,
   "metadata": {
    "collapsed": true
   },
   "outputs": [],
   "source": [
    "def fullBoard():\n",
    "    global board\n",
    "    full = True\n",
    "    count = 0\n",
    "    for n in board:\n",
    "        if n == \" \" and count != 0:\n",
    "            full = False\n",
    "            break\n",
    "        count +=1\n",
    "    print('Tie Game! No Winner!')\n",
    "    return full\n",
    "        "
   ]
  },
  {
   "cell_type": "code",
   "execution_count": null,
   "metadata": {
    "collapsed": true
   },
   "outputs": [],
   "source": [
    "def restartGame():\n",
    "    restart = False\n",
    "    while True:\n",
    "        try:\n",
    "            playerChoice = input(\"Enter Yes to restart game or enter No to quit\")\n",
    "            restartL = playerChoice.split()\n",
    "            if restartL[0].upper() == 'Y':\n",
    "                restart = True\n",
    "                break\n",
    "            elif restartL[0].upper() == 'N':\n",
    "                restart = False\n",
    "                break\n",
    "        except:\n",
    "            print('Enter Yes or No')\n",
    "    return restart"
   ]
  },
  {
   "cell_type": "code",
   "execution_count": null,
   "metadata": {
    "collapsed": true
   },
   "outputs": [],
   "source": [
    "def playGame():\n",
    "    global board, player \n",
    "    whoStartsFirst()\n",
    "    while True:\n",
    "        #clear_output()\n",
    "        getPlayerInput()\n",
    "        if checkWinner() or fullBoard():\n",
    "            clear_output()\n",
    "            break        \n",
    "        printBoard(board)\n",
    "        switchPlayer()\n",
    "    if restartGame():\n",
    "        clear_output()\n",
    "        resetBoard()\n",
    "        playGame()\n",
    "    else:\n",
    "        print('Good Bye!')"
   ]
  },
  {
   "cell_type": "code",
   "execution_count": null,
   "metadata": {
    "collapsed": true
   },
   "outputs": [],
   "source": [
    "playGame()"
   ]
  },
  {
   "cell_type": "code",
   "execution_count": null,
   "metadata": {
    "collapsed": true
   },
   "outputs": [],
   "source": []
  },
  {
   "cell_type": "code",
   "execution_count": null,
   "metadata": {
    "collapsed": true
   },
   "outputs": [],
   "source": []
  },
  {
   "cell_type": "code",
   "execution_count": null,
   "metadata": {
    "collapsed": true
   },
   "outputs": [],
   "source": []
  },
  {
   "cell_type": "code",
   "execution_count": null,
   "metadata": {
    "collapsed": true
   },
   "outputs": [],
   "source": []
  }
 ],
 "metadata": {
  "kernelspec": {
   "display_name": "Python 3",
   "language": "python",
   "name": "python3"
  },
  "language_info": {
   "codemirror_mode": {
    "name": "ipython",
    "version": 3
   },
   "file_extension": ".py",
   "mimetype": "text/x-python",
   "name": "python",
   "nbconvert_exporter": "python",
   "pygments_lexer": "ipython3",
   "version": "3.6.1"
  }
 },
 "nbformat": 4,
 "nbformat_minor": 2
}
