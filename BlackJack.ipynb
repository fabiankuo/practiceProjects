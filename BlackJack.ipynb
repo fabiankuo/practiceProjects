{
 "cells": [
  {
   "cell_type": "code",
   "execution_count": null,
   "metadata": {
    "collapsed": true
   },
   "outputs": [],
   "source": [
    "#functions needed for building a black jack game\n",
    "#set up game:\n",
    "#deal card\n",
    "#check if gone over limit\n",
    "#reset game\n",
    "#point counting\n",
    "#winner declaring\n",
    "#score keeping\n",
    "#declare a class for cards\n",
    "#print results(doesn't have to be picture of a card, numbers should suffice)\n",
    "#classes: Player, CardDeck, Dealer, Card"
   ]
  },
  {
   "cell_type": "code",
   "execution_count": 21,
   "metadata": {},
   "outputs": [],
   "source": [
    "#import random for dealing cards\n",
    "import random\n",
    "\n",
    "gameInProgress = True\n",
    "restartGame=True\n",
    "bust = False\n",
    "action = {'stand': True, 'hit':False}\n",
    "quitGame=True\n",
    "insuranceBet = 0\n",
    "playerHand = []\n",
    "dealerHand = []\n",
    "placeInsurance = False\n",
    "dealer = Dealer(dealerHand)\n",
    "player = Player(playerHand)\n",
    "deck = Deck()"
   ]
  },
  {
   "cell_type": "code",
   "execution_count": 22,
   "metadata": {
    "collapsed": true
   },
   "outputs": [],
   "source": [
    "class Player(object):\n",
    "    \n",
    "    def __init__(self,name = 'player1',bank=100, hand =[], bet = 0):\n",
    "        self.name = name\n",
    "        self.bank = bank\n",
    "        self.hand = hand\n",
    "        self.bet = bet\n",
    "    \n",
    "    def setName(self, playerName):\n",
    "        self.name = playerName\n",
    "    \n",
    "    def addCard(self, card):\n",
    "        self.hand.append(card)\n",
    "        \n",
    "    def placeBet(self):\n",
    "        while True:\n",
    "            try:\n",
    "                bet = int(raw_input('How much would you like to bet?'))\n",
    "            except:\n",
    "                print 'Please Enter a valid bet.'\n",
    "            else:\n",
    "                if bet > self.bank:\n",
    "                    print \"You don't have enough money. Please enter valid bet.\"\n",
    "                else:\n",
    "                    self.bank -= bet\n",
    "                    self.bet = bet\n",
    "                    break\n",
    "                    \n",
    "    def clearBet(self):\n",
    "        self.bet = 0\n",
    "        \n",
    "    def collectWins(self, winnings):\n",
    "        self.bank += winnings\n",
    "        \n",
    "    def action(self, action):\n",
    "        return action == True\n",
    "    def checkHand(self):\n",
    "        if len(self.hand)>0:\n",
    "            for card in hand:\n",
    "                print str(card.number) + ' '+ card.suit"
   ]
  },
  {
   "cell_type": "code",
   "execution_count": 23,
   "metadata": {
    "collapsed": true
   },
   "outputs": [],
   "source": [
    "class Card(object):\n",
    "    def __init__ (self, hierarchy,suit, number):\n",
    "        self.hierarchy = hierarchy\n",
    "        self.suit = suit\n",
    "        self.number = number\n",
    "        "
   ]
  },
  {
   "cell_type": "code",
   "execution_count": 24,
   "metadata": {
    "collapsed": true
   },
   "outputs": [],
   "source": [
    "class Deck(object):\n",
    "    def __init__ (self, deck=[], removedDeck=[]):\n",
    "        self.deck = deck\n",
    "        self.removedDeck = removedDeck\n",
    "        \n",
    "    def initDeck(self):\n",
    "        del self.deck[:]\n",
    "        del self.removedDeck[:]\n",
    "        \n",
    "        for x in xrange(1,5):\n",
    "            for num in xrange(1,14):\n",
    "                if x == 1:\n",
    "                    card = Card(x,'Cloves',num)                    \n",
    "                elif x == 2:\n",
    "                    card = Card(x,'Diamonds',num)\n",
    "                elif x == 3:\n",
    "                    card = Card(x,'Hearts', num)\n",
    "                elif x == 4:\n",
    "                    card = Card(x,'Spades', num)\n",
    "                self.deck.append(card)\n",
    "                \n",
    "    def shuffleDeck(self):\n",
    "        random.shuffle(self.deck)\n",
    "    \n",
    "    def removeCard(self):\n",
    "        self.checkForReShuffling()\n",
    "        return self.deck.pop(random.randint(0,len(self.deck)))\n",
    "    \n",
    "    def recordDiscardedCard(self, player):\n",
    "        for card in player.hand:\n",
    "            self.removedDeck.append(card)\n",
    "        del player.hand[:]\n",
    "        \n",
    "    def __len__(self):\n",
    "        return len(self.deck)\n",
    "    \n",
    "    def checkForReShuffling(self):\n",
    "        if len(self.deck)<=21:\n",
    "            print 'Current deck contains less than 20 cards, \\nremoved cards will be added back to deck and deck will be reshuffled'\n",
    "            for card in self.removedDeck:\n",
    "                self.deck.append(self.removedDeck.pop())\n",
    "                self.shuffleDeck()"
   ]
  },
  {
   "cell_type": "code",
   "execution_count": 25,
   "metadata": {},
   "outputs": [],
   "source": [
    "class Dealer(Player):\n",
    "    def __init__(self,hand = []):\n",
    "        Player.__init__(self, 'Dealer')\n",
    "        self.hand = hand\n",
    "    def dealCard(self, deck):\n",
    "        return deck.removeCard()\n",
    "    \n",
    "    def shuffleDeck(self, deck):\n",
    "        deck.shuffleDeck()"
   ]
  },
  {
   "cell_type": "code",
   "execution_count": 26,
   "metadata": {
    "collapsed": true
   },
   "outputs": [],
   "source": [
    "def checkPoints(player):\n",
    "    total = 0\n",
    "    containsAce = False\n",
    "    bust = False\n",
    "    for card in player.hand:\n",
    "        if card.number>10:\n",
    "            total+=10\n",
    "        elif  card.number == 1:\n",
    "            containsAce = True\n",
    "            total+=10\n",
    "        else:\n",
    "            total+= card.number   \n",
    "    if containsAce:\n",
    "        if type(player) is Player:\n",
    "            print player.name+\"'s points (Ace as 10): \"+ str(total)\n",
    "            print player.name+\"'s points (Ace as 1): \"+ str(total-9)\n",
    "            \n",
    "        if total>21 & (total-9)>21:\n",
    "            bust = True\n",
    "        if total >21 & (total-9) < 21:\n",
    "            total = (total-9)\n",
    "    else:\n",
    "        print player.name+\"'s points: \"+ str(total)\n",
    "        if total>21:\n",
    "            bust = True\n",
    "            \n",
    "    if (type(player) is Dealer) & containsAce:\n",
    "        if total >21:\n",
    "            total -= 9\n",
    "            \n",
    "    return {'points':total,'containsAce':containsAce, 'bust': bust}"
   ]
  },
  {
   "cell_type": "code",
   "execution_count": 27,
   "metadata": {
    "collapsed": true
   },
   "outputs": [],
   "source": [
    "def dealerAction(dealer,deck):\n",
    "    if checkForBlackJack(dealer):\n",
    "        return\n",
    "    while True:        \n",
    "        dealerPoints = checkPoints(dealer)\n",
    "        if dealerPoints['bust'] or dealerPoints['points']>=17:\n",
    "            print 'The dealer had busted!'\n",
    "            break\n",
    "        else:\n",
    "            print \"Dealer's current points: \"+ str(dealerPoints['points'])\n",
    "            dealer.addCard(dealer.dealCard(deck))"
   ]
  },
  {
   "cell_type": "code",
   "execution_count": 28,
   "metadata": {
    "collapsed": true
   },
   "outputs": [],
   "source": [
    "def playerAction(player, deck, dealer):\n",
    "    acceptInsurance = False\n",
    "    \n",
    "    if player.bet > 0:\n",
    "        player.placeBet()        \n",
    "    \n",
    "    if checkForBlackJack(player):\n",
    "        return\n",
    "    \n",
    "    print \"Dealer's first card: \"+ dealer.hand[0].suit+' '+ str(dealer.hand[0].number)\n",
    "    \n",
    "    if dealer.hand[0].number == 1:\n",
    "        print \"dealer's first card is Ace!\"\n",
    "        askForInsurance(player)\n",
    "        if checkForBlackJack(dealer):\n",
    "            return        \n",
    "        \n",
    "    while True:\n",
    "        playerPoints = checkPoints(player)\n",
    "        if playerPoints['bust']:\n",
    "            break\n",
    "        elif playerPoints['containsAce']:\n",
    "            if (playerPoints['points']-9)>21:\n",
    "                break\n",
    "            else:\n",
    "                choice = askForInput()\n",
    "                if choice.upper() == 'H':\n",
    "                    player.addCard(dealer.dealCard(deck))\n",
    "                else:\n",
    "                    break\n",
    "        else:\n",
    "            if playerPoints['points']> 21:\n",
    "                break\n",
    "            else:\n",
    "                choice = askForInput()\n",
    "                if choice.upper() == 'H':\n",
    "                    player.addCard(dealer.dealCard(deck))\n",
    "                else:\n",
    "                    break                "
   ]
  },
  {
   "cell_type": "code",
   "execution_count": 29,
   "metadata": {
    "collapsed": true
   },
   "outputs": [],
   "source": [
    "def askForInsurance(player):\n",
    "    global insuranceBet,placeInsurance\n",
    "    while True:\n",
    "        choice = raw_input(\"Enter 'Y' to place insurance or 'N' to pass\")\n",
    "        if choice.upper() == 'Y' or choice.upper() == 'N':\n",
    "            placeInsurance = True\n",
    "            break\n",
    "        else:\n",
    "            print 'Please enter a valid input.'\n",
    "    if placeInsurance:\n",
    "        while True:\n",
    "            try:\n",
    "                insuranceBet = int(raw_input(\"Please place a bet: \"))\n",
    "            except:\n",
    "                print 'Please place a valid bet.'\n",
    "            else:\n",
    "                if insuranceBet > player.bank:\n",
    "                    print 'You have insufficient funds'\n",
    "                elif insuranceBet > (player.bet*0.5):\n",
    "                    print 'You cannot bet higher than 1/2 of your original bet.'\n",
    "                else:\n",
    "                    break\n",
    "    return placeInsurance"
   ]
  },
  {
   "cell_type": "code",
   "execution_count": 30,
   "metadata": {
    "collapsed": true
   },
   "outputs": [],
   "source": [
    "def askForInput():\n",
    "    while True:\n",
    "        choice = raw_input(\"Enter 'H' to Hit or 'S' to Stand\")\n",
    "        if choice.upper() == 'H' or choice.upper() == 'S':\n",
    "            break\n",
    "        else: print 'Please enter a valid input.'\n",
    "    return choice"
   ]
  },
  {
   "cell_type": "code",
   "execution_count": 31,
   "metadata": {
    "collapsed": true
   },
   "outputs": [],
   "source": [
    "def checkForBlackJack(player):\n",
    "    blackJack = False\n",
    "    if len(player.hand)<3:\n",
    "        playerPoint = checkPoints(player)\n",
    "        if playerPoint['points'] == 21:\n",
    "            blackJack = True\n",
    "    return blackJack"
   ]
  },
  {
   "cell_type": "code",
   "execution_count": 32,
   "metadata": {
    "collapsed": true
   },
   "outputs": [],
   "source": [
    "def declareWinner(player, dealer):\n",
    "    global placeInsurance, insuranceBet, deck\n",
    "    if checkForBlackJack(player) & checkForBlackJack(dealer):\n",
    "        print 'Draw Game!'\n",
    "        player.collectWins(player.bet)\n",
    "        \n",
    "    elif checkForBlackJack(player):\n",
    "        print 'Black Jack for ' + player.name+'!'\n",
    "        player.collectWins(player.bet*2.5)\n",
    "        \n",
    "    elif checkForBlackJack(dealer):\n",
    "        print 'Black Jack for Dealer!'\n",
    "        if placeInsurance:\n",
    "            player.collectWins(insuranceBet*2+insuranceBet)\n",
    "            \n",
    "    else:\n",
    "        playerPoint = checkPoints(player)\n",
    "        dealerPoint = checkPoints(dealer)\n",
    "        \n",
    "        if playerPoint['bust']:\n",
    "            print player.name +' had busted, Dealer Wins!'\n",
    "            \n",
    "        elif dealerPoint['bust']:\n",
    "            print player.name +' wins!'\n",
    "            player.collectWins(player.bet*2)\n",
    "            \n",
    "        elif playerPoint['points']> dealerPoint['points']:\n",
    "            print player.name + ' wins!'\n",
    "            player.collectWins(player.bet*2)\n",
    "            \n",
    "        elif playerPoint['points']< dealerPoint['points']:\n",
    "            print 'Dealer wins!'\n",
    "    deck.recordDiscardedCard(player)\n",
    "    deck.recordDiscardedCard(dealer)"
   ]
  },
  {
   "cell_type": "code",
   "execution_count": 33,
   "metadata": {
    "collapsed": true
   },
   "outputs": [],
   "source": [
    "def showPlayerStats():\n",
    "    global player\n",
    "    print 'Your bank: '+ str(player.bank)"
   ]
  },
  {
   "cell_type": "code",
   "execution_count": 34,
   "metadata": {
    "collapsed": true
   },
   "outputs": [],
   "source": [
    "def newRound(player, dealer, deck):\n",
    "    deck.recordDiscardedCard(player)\n",
    "    deck.recordDiscardedCard(dealer)\n",
    "    deck.checkForReShuffling()\n",
    "    player.bet = 0\n",
    "    insuranceBet = 0\n",
    "    placeInsurance = False\n",
    "    playGame()"
   ]
  },
  {
   "cell_type": "code",
   "execution_count": 35,
   "metadata": {
    "collapsed": true
   },
   "outputs": [],
   "source": [
    "def askForPlayerName():\n",
    "    while True:\n",
    "        name = raw_input('Please enter your name: ')\n",
    "        if len(name.replace(' ',''))>0:\n",
    "            return name\n",
    "        else:\n",
    "            print 'Please enter a valid name'"
   ]
  },
  {
   "cell_type": "code",
   "execution_count": 36,
   "metadata": {
    "collapsed": true
   },
   "outputs": [],
   "source": [
    "def dealCard(dealer, player, deck):\n",
    "    player.addCard(dealer.dealCard(deck))    "
   ]
  },
  {
   "cell_type": "code",
   "execution_count": 37,
   "metadata": {
    "collapsed": true
   },
   "outputs": [],
   "source": [
    "def initGame():\n",
    "    global player, dealer, deck\n",
    "    print \"Welcome to Fk's Black Jack Game!\"\n",
    "    choice = 'O'\n",
    "    while True:\n",
    "        choice = raw_input(\"Enter 'Y' to play or 'N' to leave\")\n",
    "        if choice.upper() != 'Y' and choice.upper() != 'N':\n",
    "            print 'Please enter a valid input.'\n",
    "        else:\n",
    "            break\n",
    "    if choice.upper() == 'N':\n",
    "        print 'Good Bye!'\n",
    "        return False\n",
    "    else:\n",
    "        deck.initDeck()\n",
    "        dealer.shuffleDeck(deck)\n",
    "        player.setName(askForPlayerName())\n",
    "        playGame()       \n",
    "        return True"
   ]
  },
  {
   "cell_type": "code",
   "execution_count": 38,
   "metadata": {
    "collapsed": true
   },
   "outputs": [],
   "source": [
    "def playGame():   \n",
    "    global player, dealer, deck\n",
    "    for x in range (1,3):\n",
    "        dealCard(dealer, player, deck)\n",
    "        dealCard(dealer, dealer, deck)\n",
    "    playerAction(player, deck, dealer)\n",
    "    dealerAction(dealer, deck)\n",
    "    declareWinner(player, dealer)\n",
    "    showPlayerStats()\n",
    "    if continueGame():\n",
    "        newRound(player, dealer, deck)\n",
    "        playGame()\n",
    "    else:\n",
    "        print 'Good Bye!'\n",
    "    "
   ]
  },
  {
   "cell_type": "code",
   "execution_count": 39,
   "metadata": {
    "collapsed": true
   },
   "outputs": [],
   "source": [
    "def continueGame():\n",
    "    choice = raw_input(\"Enter 'Y' if you wish to continue to play, or any key to quit: \")\n",
    "    if choice.upper() == 'Y':\n",
    "        return True\n",
    "    else:\n",
    "        return False"
   ]
  },
  {
   "cell_type": "code",
   "execution_count": 40,
   "metadata": {
    "collapsed": true
   },
   "outputs": [],
   "source": [
    "def game():\n",
    "    if initGame():\n",
    "        playGame()"
   ]
  },
  {
   "cell_type": "code",
   "execution_count": 42,
   "metadata": {},
   "outputs": [
    {
     "name": "stdout",
     "output_type": "stream",
     "text": [
      "Welcome to Fk's Black Jack Game!\n",
      "Enter 'Y' to play or 'N' to leavey\n",
      "Please enter your name: Fk\n"
     ]
    },
    {
     "ename": "IndexError",
     "evalue": "pop index out of range",
     "output_type": "error",
     "traceback": [
      "\u001b[1;31m---------------------------------------------------------------------------\u001b[0m",
      "\u001b[1;31mIndexError\u001b[0m                                Traceback (most recent call last)",
      "\u001b[1;32m<ipython-input-42-fb4c0e38c8cb>\u001b[0m in \u001b[0;36m<module>\u001b[1;34m()\u001b[0m\n\u001b[1;32m----> 1\u001b[1;33m \u001b[0mgame\u001b[0m\u001b[1;33m(\u001b[0m\u001b[1;33m)\u001b[0m\u001b[1;33m\u001b[0m\u001b[0m\n\u001b[0m",
      "\u001b[1;32m<ipython-input-40-340ccead5970>\u001b[0m in \u001b[0;36mgame\u001b[1;34m()\u001b[0m\n\u001b[0;32m      1\u001b[0m \u001b[1;32mdef\u001b[0m \u001b[0mgame\u001b[0m\u001b[1;33m(\u001b[0m\u001b[1;33m)\u001b[0m\u001b[1;33m:\u001b[0m\u001b[1;33m\u001b[0m\u001b[0m\n\u001b[1;32m----> 2\u001b[1;33m     \u001b[1;32mif\u001b[0m \u001b[0minitGame\u001b[0m\u001b[1;33m(\u001b[0m\u001b[1;33m)\u001b[0m\u001b[1;33m:\u001b[0m\u001b[1;33m\u001b[0m\u001b[0m\n\u001b[0m\u001b[0;32m      3\u001b[0m         \u001b[0mplayGame\u001b[0m\u001b[1;33m(\u001b[0m\u001b[1;33m)\u001b[0m\u001b[1;33m\u001b[0m\u001b[0m\n",
      "\u001b[1;32m<ipython-input-37-f6563d61af83>\u001b[0m in \u001b[0;36minitGame\u001b[1;34m()\u001b[0m\n\u001b[0;32m     16\u001b[0m         \u001b[0mdealer\u001b[0m\u001b[1;33m.\u001b[0m\u001b[0mshuffleDeck\u001b[0m\u001b[1;33m(\u001b[0m\u001b[0mdeck\u001b[0m\u001b[1;33m)\u001b[0m\u001b[1;33m\u001b[0m\u001b[0m\n\u001b[0;32m     17\u001b[0m         \u001b[0mplayer\u001b[0m\u001b[1;33m.\u001b[0m\u001b[0msetName\u001b[0m\u001b[1;33m(\u001b[0m\u001b[0maskForPlayerName\u001b[0m\u001b[1;33m(\u001b[0m\u001b[1;33m)\u001b[0m\u001b[1;33m)\u001b[0m\u001b[1;33m\u001b[0m\u001b[0m\n\u001b[1;32m---> 18\u001b[1;33m         \u001b[0mplayGame\u001b[0m\u001b[1;33m(\u001b[0m\u001b[1;33m)\u001b[0m\u001b[1;33m\u001b[0m\u001b[0m\n\u001b[0m\u001b[0;32m     19\u001b[0m         \u001b[1;32mreturn\u001b[0m \u001b[0mTrue\u001b[0m\u001b[1;33m\u001b[0m\u001b[0m\n",
      "\u001b[1;32m<ipython-input-38-a26a1c451b41>\u001b[0m in \u001b[0;36mplayGame\u001b[1;34m()\u001b[0m\n\u001b[0;32m      2\u001b[0m     \u001b[1;32mglobal\u001b[0m \u001b[0mplayer\u001b[0m\u001b[1;33m,\u001b[0m \u001b[0mdealer\u001b[0m\u001b[1;33m,\u001b[0m \u001b[0mdeck\u001b[0m\u001b[1;33m\u001b[0m\u001b[0m\n\u001b[0;32m      3\u001b[0m     \u001b[1;32mfor\u001b[0m \u001b[0mx\u001b[0m \u001b[1;32min\u001b[0m \u001b[0mrange\u001b[0m \u001b[1;33m(\u001b[0m\u001b[1;36m1\u001b[0m\u001b[1;33m,\u001b[0m\u001b[1;36m3\u001b[0m\u001b[1;33m)\u001b[0m\u001b[1;33m:\u001b[0m\u001b[1;33m\u001b[0m\u001b[0m\n\u001b[1;32m----> 4\u001b[1;33m         \u001b[0mdealCard\u001b[0m\u001b[1;33m(\u001b[0m\u001b[0mdealer\u001b[0m\u001b[1;33m,\u001b[0m \u001b[0mplayer\u001b[0m\u001b[1;33m,\u001b[0m \u001b[0mdeck\u001b[0m\u001b[1;33m)\u001b[0m\u001b[1;33m\u001b[0m\u001b[0m\n\u001b[0m\u001b[0;32m      5\u001b[0m         \u001b[0mdealCard\u001b[0m\u001b[1;33m(\u001b[0m\u001b[0mdealer\u001b[0m\u001b[1;33m,\u001b[0m \u001b[0mdealer\u001b[0m\u001b[1;33m,\u001b[0m \u001b[0mdeck\u001b[0m\u001b[1;33m)\u001b[0m\u001b[1;33m\u001b[0m\u001b[0m\n\u001b[0;32m      6\u001b[0m     \u001b[0mplayerAction\u001b[0m\u001b[1;33m(\u001b[0m\u001b[0mplayer\u001b[0m\u001b[1;33m,\u001b[0m \u001b[0mdeck\u001b[0m\u001b[1;33m,\u001b[0m \u001b[0mdealer\u001b[0m\u001b[1;33m)\u001b[0m\u001b[1;33m\u001b[0m\u001b[0m\n",
      "\u001b[1;32m<ipython-input-36-03e941bc0328>\u001b[0m in \u001b[0;36mdealCard\u001b[1;34m(dealer, player, deck)\u001b[0m\n\u001b[0;32m      1\u001b[0m \u001b[1;32mdef\u001b[0m \u001b[0mdealCard\u001b[0m\u001b[1;33m(\u001b[0m\u001b[0mdealer\u001b[0m\u001b[1;33m,\u001b[0m \u001b[0mplayer\u001b[0m\u001b[1;33m,\u001b[0m \u001b[0mdeck\u001b[0m\u001b[1;33m)\u001b[0m\u001b[1;33m:\u001b[0m\u001b[1;33m\u001b[0m\u001b[0m\n\u001b[1;32m----> 2\u001b[1;33m     \u001b[0mplayer\u001b[0m\u001b[1;33m.\u001b[0m\u001b[0maddCard\u001b[0m\u001b[1;33m(\u001b[0m\u001b[0mdealer\u001b[0m\u001b[1;33m.\u001b[0m\u001b[0mdealCard\u001b[0m\u001b[1;33m(\u001b[0m\u001b[0mdeck\u001b[0m\u001b[1;33m)\u001b[0m\u001b[1;33m)\u001b[0m\u001b[1;33m\u001b[0m\u001b[0m\n\u001b[0m",
      "\u001b[1;32m<ipython-input-19-66d1064fd1b9>\u001b[0m in \u001b[0;36mdealCard\u001b[1;34m(self, deck)\u001b[0m\n\u001b[0;32m      4\u001b[0m         \u001b[0mself\u001b[0m\u001b[1;33m.\u001b[0m\u001b[0mhand\u001b[0m \u001b[1;33m=\u001b[0m \u001b[0mhand\u001b[0m\u001b[1;33m\u001b[0m\u001b[0m\n\u001b[0;32m      5\u001b[0m     \u001b[1;32mdef\u001b[0m \u001b[0mdealCard\u001b[0m\u001b[1;33m(\u001b[0m\u001b[0mself\u001b[0m\u001b[1;33m,\u001b[0m \u001b[0mdeck\u001b[0m\u001b[1;33m)\u001b[0m\u001b[1;33m:\u001b[0m\u001b[1;33m\u001b[0m\u001b[0m\n\u001b[1;32m----> 6\u001b[1;33m         \u001b[1;32mreturn\u001b[0m \u001b[0mdeck\u001b[0m\u001b[1;33m.\u001b[0m\u001b[0mremoveCard\u001b[0m\u001b[1;33m(\u001b[0m\u001b[1;33m)\u001b[0m\u001b[1;33m\u001b[0m\u001b[0m\n\u001b[0m\u001b[0;32m      7\u001b[0m \u001b[1;33m\u001b[0m\u001b[0m\n\u001b[0;32m      8\u001b[0m     \u001b[1;32mdef\u001b[0m \u001b[0mshuffleDeck\u001b[0m\u001b[1;33m(\u001b[0m\u001b[0mself\u001b[0m\u001b[1;33m,\u001b[0m \u001b[0mdeck\u001b[0m\u001b[1;33m)\u001b[0m\u001b[1;33m:\u001b[0m\u001b[1;33m\u001b[0m\u001b[0m\n",
      "\u001b[1;32m<ipython-input-18-5489b26193d2>\u001b[0m in \u001b[0;36mremoveCard\u001b[1;34m(self)\u001b[0m\n\u001b[0;32m     25\u001b[0m     \u001b[1;32mdef\u001b[0m \u001b[0mremoveCard\u001b[0m\u001b[1;33m(\u001b[0m\u001b[0mself\u001b[0m\u001b[1;33m)\u001b[0m\u001b[1;33m:\u001b[0m\u001b[1;33m\u001b[0m\u001b[0m\n\u001b[0;32m     26\u001b[0m         \u001b[0mself\u001b[0m\u001b[1;33m.\u001b[0m\u001b[0mcheckForReShuffling\u001b[0m\u001b[1;33m(\u001b[0m\u001b[1;33m)\u001b[0m\u001b[1;33m\u001b[0m\u001b[0m\n\u001b[1;32m---> 27\u001b[1;33m         \u001b[1;32mreturn\u001b[0m \u001b[0mself\u001b[0m\u001b[1;33m.\u001b[0m\u001b[0mdeck\u001b[0m\u001b[1;33m.\u001b[0m\u001b[0mpop\u001b[0m\u001b[1;33m(\u001b[0m\u001b[0mrandom\u001b[0m\u001b[1;33m.\u001b[0m\u001b[0mrandint\u001b[0m\u001b[1;33m(\u001b[0m\u001b[1;36m0\u001b[0m\u001b[1;33m,\u001b[0m\u001b[0mlen\u001b[0m\u001b[1;33m(\u001b[0m\u001b[0mself\u001b[0m\u001b[1;33m.\u001b[0m\u001b[0mdeck\u001b[0m\u001b[1;33m)\u001b[0m\u001b[1;33m)\u001b[0m\u001b[1;33m)\u001b[0m\u001b[1;33m\u001b[0m\u001b[0m\n\u001b[0m\u001b[0;32m     28\u001b[0m \u001b[1;33m\u001b[0m\u001b[0m\n\u001b[0;32m     29\u001b[0m     \u001b[1;32mdef\u001b[0m \u001b[0mrecordDiscardedCard\u001b[0m\u001b[1;33m(\u001b[0m\u001b[0mself\u001b[0m\u001b[1;33m,\u001b[0m \u001b[0mplayer\u001b[0m\u001b[1;33m)\u001b[0m\u001b[1;33m:\u001b[0m\u001b[1;33m\u001b[0m\u001b[0m\n",
      "\u001b[1;31mIndexError\u001b[0m: pop index out of range"
     ]
    }
   ],
   "source": [
    "game()"
   ]
  },
  {
   "cell_type": "code",
   "execution_count": 43,
   "metadata": {},
   "outputs": [
    {
     "data": {
      "text/plain": [
       "50"
      ]
     },
     "execution_count": 43,
     "metadata": {},
     "output_type": "execute_result"
    }
   ],
   "source": [
    "len(deck)"
   ]
  },
  {
   "cell_type": "code",
   "execution_count": 45,
   "metadata": {},
   "outputs": [
    {
     "data": {
      "text/plain": [
       "<__main__.Card at 0x6f9f1d0>"
      ]
     },
     "execution_count": 45,
     "metadata": {},
     "output_type": "execute_result"
    }
   ],
   "source": [
    "deck.deck.pop(random.randint(0,len(deck.deck)))"
   ]
  },
  {
   "cell_type": "code",
   "execution_count": null,
   "metadata": {
    "collapsed": true
   },
   "outputs": [],
   "source": []
  }
 ],
 "metadata": {
  "kernelspec": {
   "display_name": "Python 2",
   "language": "python",
   "name": "python2"
  },
  "language_info": {
   "codemirror_mode": {
    "name": "ipython",
    "version": 2
   },
   "file_extension": ".py",
   "mimetype": "text/x-python",
   "name": "python",
   "nbconvert_exporter": "python",
   "pygments_lexer": "ipython2",
   "version": "2.7.14"
  }
 },
 "nbformat": 4,
 "nbformat_minor": 2
}
