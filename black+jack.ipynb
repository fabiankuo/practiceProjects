{
 "cells": [
  {
   "cell_type": "code",
   "execution_count": null,
   "metadata": {
    "collapsed": true
   },
   "outputs": [],
   "source": [
    "import random\n",
    "from IPython.display import clear_output"
   ]
  },
  {
   "cell_type": "code",
   "execution_count": null,
   "metadata": {
    "collapsed": true
   },
   "outputs": [],
   "source": [
    "class Player (object):\n",
    "    cards = {}\n",
    "    def __init__(self, name, money = 100):\n",
    "        self.name = name\n",
    "        self.money = money\n",
    "        \n",
    "    def placeBet(self, bet, pile):\n",
    "        if (int(self.money) - int(bet))>0:\n",
    "            self.money -= bet\n",
    "            pile+= bet\n",
    "        else:\n",
    "            print(\"you don't have enough money!\")\n",
    "    def drawCard(self, card):\n",
    "        Player.cards.append(card)"
   ]
  },
  {
   "cell_type": "code",
   "execution_count": 3,
   "metadata": {},
   "outputs": [],
   "source": [
    "class Card(object):\n",
    "    \n",
    "    def __init_(self, suit, number, drawn = False):\n",
    "        self.drawn = drawn\n",
    "        self.suit = suit\n",
    "        self.number = number"
   ]
  },
  {
   "cell_type": "code",
   "execution_count": null,
   "metadata": {
    "collapsed": true
   },
   "outputs": [],
   "source": [
    "class Deck (object):\n",
    "    cards = []\n",
    "    def __init__ (self):\n",
    "        for i in range(1, 53):\n",
    "            if i < 14:\n",
    "                card = Card('Club', i)\n",
    "            elif i<27:\n",
    "                card = Card('Spade', int(i)- 13)\n",
    "            elif i<40:\n",
    "                card = Card('Diamond', int(i) - 26)\n",
    "            else:\n",
    "                card = Card('Heart', int(i) - 39)\n",
    "                \n",
    "            Deck.cards.add(card)"
   ]
  },
  {
   "cell_type": "code",
   "execution_count": null,
   "metadata": {
    "collapsed": true
   },
   "outputs": [],
   "source": []
  }
 ],
 "metadata": {
  "kernelspec": {
   "display_name": "Python 3",
   "language": "python",
   "name": "python3"
  },
  "language_info": {
   "codemirror_mode": {
    "name": "ipython",
    "version": 3
   },
   "file_extension": ".py",
   "mimetype": "text/x-python",
   "name": "python",
   "nbconvert_exporter": "python",
   "pygments_lexer": "ipython3",
   "version": "3.6.1"
  }
 },
 "nbformat": 4,
 "nbformat_minor": 2
}
